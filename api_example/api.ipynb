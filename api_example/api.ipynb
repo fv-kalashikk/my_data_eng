{
 "cells": [
  {
   "cell_type": "code",
   "execution_count": 6,
   "id": "ed9852c2",
   "metadata": {},
   "outputs": [
    {
     "name": "stdout",
     "output_type": "stream",
     "text": [
      "/Users/macbook/my_data_eng/itmo_project\n"
     ]
    }
   ],
   "source": [
    "cd .."
   ]
  },
  {
   "cell_type": "code",
   "execution_count": 9,
   "id": "72bf6b31",
   "metadata": {},
   "outputs": [
    {
     "data": {
      "text/plain": [
       "'/Users/macbook/my_data_eng/itmo_project/api_example'"
      ]
     },
     "execution_count": 9,
     "metadata": {},
     "output_type": "execute_result"
    }
   ],
   "source": [
    "pwd"
   ]
  },
  {
   "cell_type": "code",
   "execution_count": 8,
   "id": "85590d66",
   "metadata": {},
   "outputs": [
    {
     "name": "stdout",
     "output_type": "stream",
     "text": [
      "/Users/macbook/my_data_eng/itmo_project/api_example\n"
     ]
    }
   ],
   "source": [
    "cd api_example/"
   ]
  },
  {
   "cell_type": "code",
   "execution_count": 11,
   "id": "f41bf934",
   "metadata": {},
   "outputs": [
    {
     "name": "stdout",
     "output_type": "stream",
     "text": [
      "Найдено: Chainsaw Man -> ID: 44511\n",
      "Найдено: Attack on Titan -> ID: 16498\n",
      "Найдено: Jujutsu Kaisen -> ID: 40748\n",
      "\n",
      "📊 Итоговая таблица с аниме ID:\n"
     ]
    },
    {
     "name": "stderr",
     "output_type": "stream",
     "text": [
      "100%|██████████████████████████████████████████████████████| 60/60 [01:00<00:00,  1.01s/it]\n"
     ]
    },
    {
     "name": "stdout",
     "output_type": "stream",
     "text": [
      "\n",
      "📊 Детальная информация об аниме:\n"
     ]
    },
    {
     "data": {
      "text/html": [
       "<div>\n",
       "<style scoped>\n",
       "    .dataframe tbody tr th:only-of-type {\n",
       "        vertical-align: middle;\n",
       "    }\n",
       "\n",
       "    .dataframe tbody tr th {\n",
       "        vertical-align: top;\n",
       "    }\n",
       "\n",
       "    .dataframe thead th {\n",
       "        text-align: right;\n",
       "    }\n",
       "</style>\n",
       "<table border=\"1\" class=\"dataframe\">\n",
       "  <thead>\n",
       "    <tr style=\"text-align: right;\">\n",
       "      <th></th>\n",
       "      <th>id</th>\n",
       "      <th>title</th>\n",
       "      <th>episodes</th>\n",
       "      <th>score</th>\n",
       "      <th>status</th>\n",
       "      <th>synopsis</th>\n",
       "      <th>year</th>\n",
       "      <th>season</th>\n",
       "    </tr>\n",
       "  </thead>\n",
       "  <tbody>\n",
       "    <tr>\n",
       "      <th>0</th>\n",
       "      <td>44511</td>\n",
       "      <td>Chainsaw Man</td>\n",
       "      <td>12</td>\n",
       "      <td>8.44</td>\n",
       "      <td>Finished Airing</td>\n",
       "      <td>Denji is robbed of a normal teenage life, left...</td>\n",
       "      <td>2022</td>\n",
       "      <td>fall</td>\n",
       "    </tr>\n",
       "    <tr>\n",
       "      <th>1</th>\n",
       "      <td>16498</td>\n",
       "      <td>Shingeki no Kyojin</td>\n",
       "      <td>25</td>\n",
       "      <td>8.56</td>\n",
       "      <td>Finished Airing</td>\n",
       "      <td>Centuries ago, mankind was slaughtered to near...</td>\n",
       "      <td>2013</td>\n",
       "      <td>spring</td>\n",
       "    </tr>\n",
       "    <tr>\n",
       "      <th>2</th>\n",
       "      <td>40748</td>\n",
       "      <td>Jujutsu Kaisen</td>\n",
       "      <td>24</td>\n",
       "      <td>8.53</td>\n",
       "      <td>Finished Airing</td>\n",
       "      <td>Idly indulging in baseless paranormal activiti...</td>\n",
       "      <td>2020</td>\n",
       "      <td>fall</td>\n",
       "    </tr>\n",
       "  </tbody>\n",
       "</table>\n",
       "</div>"
      ],
      "text/plain": [
       "      id               title  episodes  score           status  \\\n",
       "0  44511        Chainsaw Man        12   8.44  Finished Airing   \n",
       "1  16498  Shingeki no Kyojin        25   8.56  Finished Airing   \n",
       "2  40748      Jujutsu Kaisen        24   8.53  Finished Airing   \n",
       "\n",
       "                                            synopsis  year  season  \n",
       "0  Denji is robbed of a normal teenage life, left...  2022    fall  \n",
       "1  Centuries ago, mankind was slaughtered to near...  2013  spring  \n",
       "2  Idly indulging in baseless paranormal activiti...  2020    fall  "
      ]
     },
     "metadata": {},
     "output_type": "display_data"
    }
   ],
   "source": [
    "%run api_reader.py"
   ]
  }
 ],
 "metadata": {
  "kernelspec": {
   "display_name": "Python 3 (ipykernel)",
   "language": "python",
   "name": "python3"
  },
  "language_info": {
   "codemirror_mode": {
    "name": "ipython",
    "version": 3
   },
   "file_extension": ".py",
   "mimetype": "text/x-python",
   "name": "python",
   "nbconvert_exporter": "python",
   "pygments_lexer": "ipython3",
   "version": "3.9.23"
  }
 },
 "nbformat": 4,
 "nbformat_minor": 5
}
